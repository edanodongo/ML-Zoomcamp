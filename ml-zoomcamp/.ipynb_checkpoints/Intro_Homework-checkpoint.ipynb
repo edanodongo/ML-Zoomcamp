{
 "cells": [
  {
   "cell_type": "markdown",
   "id": "02c26080-df0a-413a-af59-9ccdb78228a9",
   "metadata": {},
   "source": [
    "## Homework ##"
   ]
  },
  {
   "cell_type": "code",
   "execution_count": 16,
   "id": "a53adfad-21b1-4210-b436-49ca3720e218",
   "metadata": {},
   "outputs": [],
   "source": [
    "import pandas as pd"
   ]
  },
  {
   "cell_type": "code",
   "execution_count": 67,
   "id": "4eff44bc-01fd-42c5-aadd-657cbe40c2f4",
   "metadata": {},
   "outputs": [],
   "source": [
    "import numpy as np"
   ]
  },
  {
   "cell_type": "code",
   "execution_count": 17,
   "id": "dbf37734-eda7-4272-ac59-3a68fdaf926c",
   "metadata": {},
   "outputs": [
    {
     "data": {
      "text/plain": [
       "'2.2.2'"
      ]
     },
     "execution_count": 17,
     "metadata": {},
     "output_type": "execute_result"
    }
   ],
   "source": [
    "pd.__version__"
   ]
  },
  {
   "cell_type": "code",
   "execution_count": 18,
   "id": "871eeea8-0cd4-453c-8df6-cedd6699fb32",
   "metadata": {},
   "outputs": [
    {
     "name": "stdout",
     "output_type": "stream",
     "text": [
      "                                                 Laptop       Status   Brand  \\\n",
      "0     ASUS ExpertBook B1 B1502CBA-EJ0436X Intel Core...          New    Asus   \n",
      "1     Alurin Go Start Intel Celeron N4020/8GB/256GB ...          New  Alurin   \n",
      "2     ASUS ExpertBook B1 B1502CBA-EJ0424X Intel Core...          New    Asus   \n",
      "3     MSI Katana GF66 12UC-082XES Intel Core i7-1270...          New     MSI   \n",
      "4     HP 15S-FQ5085NS Intel Core i5-1235U/16GB/512GB...          New      HP   \n",
      "...                                                 ...          ...     ...   \n",
      "2155  Razer Blade 17 FHD 360Hz Intel Core i7-11800H/...  Refurbished   Razer   \n",
      "2156  Razer Blade 17 FHD 360Hz Intel Core i7-11800H/...  Refurbished   Razer   \n",
      "2157  Razer Blade 17 FHD 360Hz Intel Core i7-11800H/...  Refurbished   Razer   \n",
      "2158  Razer Book 13 Intel Evo Core i7-1165G7/16GB/1T...  Refurbished   Razer   \n",
      "2159  Razer Book FHD+ Intel Evo Core i7-1165G7/16GB/...  Refurbished   Razer   \n",
      "\n",
      "           Model                CPU  RAM  Storage Storage type       GPU  \\\n",
      "0     ExpertBook      Intel Core i5    8      512          SSD       NaN   \n",
      "1             Go      Intel Celeron    8      256          SSD       NaN   \n",
      "2     ExpertBook      Intel Core i3    8      256          SSD       NaN   \n",
      "3         Katana      Intel Core i7   16     1000          SSD  RTX 3050   \n",
      "4            15S      Intel Core i5   16      512          SSD       NaN   \n",
      "...          ...                ...  ...      ...          ...       ...   \n",
      "2155       Blade      Intel Core i7   16     1000          SSD  RTX 3060   \n",
      "2156       Blade      Intel Core i7   16     1000          SSD  RTX 3070   \n",
      "2157       Blade      Intel Core i7   32     1000          SSD  RTX 3080   \n",
      "2158        Book  Intel Evo Core i7   16     1000          SSD       NaN   \n",
      "2159        Book  Intel Evo Core i7   16      256          SSD       NaN   \n",
      "\n",
      "      Screen Touch  Final Price  \n",
      "0       15.6    No      1009.00  \n",
      "1       15.6    No       299.00  \n",
      "2       15.6    No       789.00  \n",
      "3       15.6    No      1199.00  \n",
      "4       15.6    No       669.01  \n",
      "...      ...   ...          ...  \n",
      "2155    17.3    No      2699.99  \n",
      "2156    17.3    No      2899.99  \n",
      "2157    17.3    No      3399.99  \n",
      "2158    13.4   Yes      1899.99  \n",
      "2159    13.4   Yes      1699.99  \n",
      "\n",
      "[2160 rows x 12 columns]\n"
     ]
    }
   ],
   "source": [
    "df = pd.read_csv(\"C:/Users/Edan/Downloads/laptops.csv\")\n",
    "print(df)"
   ]
  },
  {
   "cell_type": "code",
   "execution_count": 19,
   "id": "0c166954-10e8-417c-b8d3-935e651a70ca",
   "metadata": {},
   "outputs": [
    {
     "data": {
      "text/plain": [
       "Laptop          2160\n",
       "Status          2160\n",
       "Brand           2160\n",
       "Model           2160\n",
       "CPU             2160\n",
       "RAM             2160\n",
       "Storage         2160\n",
       "Storage type    2118\n",
       "GPU              789\n",
       "Screen          2156\n",
       "Touch           2160\n",
       "Final Price     2160\n",
       "dtype: int64"
      ]
     },
     "execution_count": 19,
     "metadata": {},
     "output_type": "execute_result"
    }
   ],
   "source": [
    "df.count(axis=0)"
   ]
  },
  {
   "cell_type": "markdown",
   "id": "797e870d-c73a-442d-b0ee-d2d20f2fed12",
   "metadata": {},
   "source": [
    "There are 12 records in the dataset"
   ]
  },
  {
   "cell_type": "code",
   "execution_count": 20,
   "id": "c2e14977-7594-4b87-8dec-ec4b3e7a1766",
   "metadata": {},
   "outputs": [
    {
     "data": {
      "text/plain": [
       "Laptop          2160\n",
       "Status             2\n",
       "Brand             27\n",
       "Model            121\n",
       "CPU               28\n",
       "RAM                9\n",
       "Storage           12\n",
       "Storage type       2\n",
       "GPU               44\n",
       "Screen            29\n",
       "Touch              2\n",
       "Final Price     1440\n",
       "dtype: int64"
      ]
     },
     "execution_count": 20,
     "metadata": {},
     "output_type": "execute_result"
    }
   ],
   "source": [
    "df.nunique()"
   ]
  },
  {
   "cell_type": "markdown",
   "id": "e63224ad-a6eb-46b9-aaff-6bd4e8f7e6c3",
   "metadata": {},
   "source": [
    "There are 2160 laptop brands"
   ]
  },
  {
   "cell_type": "code",
   "execution_count": 21,
   "id": "def6fca6-5356-4661-be7f-c22e195cbdfb",
   "metadata": {},
   "outputs": [
    {
     "data": {
      "text/plain": [
       "Laptop             0\n",
       "Status             0\n",
       "Brand              0\n",
       "Model              0\n",
       "CPU                0\n",
       "RAM                0\n",
       "Storage            0\n",
       "Storage type      42\n",
       "GPU             1371\n",
       "Screen             4\n",
       "Touch              0\n",
       "Final Price        0\n",
       "dtype: int64"
      ]
     },
     "execution_count": 21,
     "metadata": {},
     "output_type": "execute_result"
    }
   ],
   "source": [
    "df.isnull().sum()"
   ]
  },
  {
   "cell_type": "markdown",
   "id": "b1ebd533-a855-4a97-b624-e5ba0040606f",
   "metadata": {},
   "source": [
    "2 columns have missing values\n",
    "Storage type and GPU"
   ]
  },
  {
   "cell_type": "code",
   "execution_count": 22,
   "id": "959b1a27-5492-48fc-a7ab-647af9f3a33f",
   "metadata": {},
   "outputs": [
    {
     "data": {
      "text/plain": [
       "Laptop          MSI Raider GE78HX 13VH-065ES Intel Core i9-139...\n",
       "Status                                                        New\n",
       "Brand                                                         MSI\n",
       "Model                                                      Raider\n",
       "CPU                                                 Intel Core i9\n",
       "RAM                                                            32\n",
       "Storage                                                      2000\n",
       "Storage type                                                  SSD\n",
       "GPU                                                      RTX 4080\n",
       "Screen                                                       17.0\n",
       "Touch                                                          No\n",
       "Final Price                                               7150.47\n",
       "Name: 1099, dtype: object"
      ]
     },
     "execution_count": 22,
     "metadata": {},
     "output_type": "execute_result"
    }
   ],
   "source": [
    "df.loc[df['Final Price'].idxmax()]"
   ]
  },
  {
   "cell_type": "code",
   "execution_count": 23,
   "id": "2899b3a8-1d23-4900-b6c5-260ac522913a",
   "metadata": {},
   "outputs": [
    {
     "data": {
      "text/plain": [
       "0    15.6\n",
       "Name: Screen, dtype: float64"
      ]
     },
     "execution_count": 23,
     "metadata": {},
     "output_type": "execute_result"
    }
   ],
   "source": [
    "df.Screen.mode()"
   ]
  },
  {
   "cell_type": "code",
   "execution_count": 24,
   "id": "76634d7c-28fc-4760-a58e-f1d737439ce6",
   "metadata": {},
   "outputs": [
    {
     "data": {
      "text/plain": [
       "15.6"
      ]
     },
     "execution_count": 24,
     "metadata": {},
     "output_type": "execute_result"
    }
   ],
   "source": [
    "df['Screen'].median()"
   ]
  },
  {
   "cell_type": "code",
   "execution_count": 25,
   "id": "e67f2847-3f50-4609-9d6e-7240f35cabfa",
   "metadata": {},
   "outputs": [
    {
     "data": {
      "text/plain": [
       "0    15.6\n",
       "Name: Screen, dtype: float64"
      ]
     },
     "execution_count": 25,
     "metadata": {},
     "output_type": "execute_result"
    }
   ],
   "source": [
    "df.Screen.mode()"
   ]
  },
  {
   "cell_type": "code",
   "execution_count": 28,
   "id": "f9d42b4d-2b58-4eb5-9fc1-3f9b0c9427f7",
   "metadata": {
    "scrolled": true
   },
   "outputs": [
    {
     "data": {
      "text/html": [
       "<div>\n",
       "<style scoped>\n",
       "    .dataframe tbody tr th:only-of-type {\n",
       "        vertical-align: middle;\n",
       "    }\n",
       "\n",
       "    .dataframe tbody tr th {\n",
       "        vertical-align: top;\n",
       "    }\n",
       "\n",
       "    .dataframe thead th {\n",
       "        text-align: right;\n",
       "    }\n",
       "</style>\n",
       "<table border=\"1\" class=\"dataframe\">\n",
       "  <thead>\n",
       "    <tr style=\"text-align: right;\">\n",
       "      <th></th>\n",
       "      <th>min</th>\n",
       "      <th>mean</th>\n",
       "      <th>max</th>\n",
       "    </tr>\n",
       "    <tr>\n",
       "      <th>Brand</th>\n",
       "      <th></th>\n",
       "      <th></th>\n",
       "      <th></th>\n",
       "    </tr>\n",
       "  </thead>\n",
       "  <tbody>\n",
       "    <tr>\n",
       "      <th>Acer</th>\n",
       "      <td>264.14</td>\n",
       "      <td>1001.285766</td>\n",
       "      <td>3691.00</td>\n",
       "    </tr>\n",
       "    <tr>\n",
       "      <th>Alurin</th>\n",
       "      <td>239.00</td>\n",
       "      <td>484.701379</td>\n",
       "      <td>869.00</td>\n",
       "    </tr>\n",
       "    <tr>\n",
       "      <th>Apple</th>\n",
       "      <td>299.00</td>\n",
       "      <td>1578.227672</td>\n",
       "      <td>3849.00</td>\n",
       "    </tr>\n",
       "    <tr>\n",
       "      <th>Asus</th>\n",
       "      <td>239.25</td>\n",
       "      <td>1269.380699</td>\n",
       "      <td>5758.14</td>\n",
       "    </tr>\n",
       "    <tr>\n",
       "      <th>Deep Gaming</th>\n",
       "      <td>1334.00</td>\n",
       "      <td>1505.377500</td>\n",
       "      <td>1639.01</td>\n",
       "    </tr>\n",
       "    <tr>\n",
       "      <th>Dell</th>\n",
       "      <td>379.00</td>\n",
       "      <td>1153.839881</td>\n",
       "      <td>3936.00</td>\n",
       "    </tr>\n",
       "    <tr>\n",
       "      <th>Denver</th>\n",
       "      <td>329.95</td>\n",
       "      <td>329.950000</td>\n",
       "      <td>329.95</td>\n",
       "    </tr>\n",
       "    <tr>\n",
       "      <th>Dynabook Toshiba</th>\n",
       "      <td>397.29</td>\n",
       "      <td>999.197895</td>\n",
       "      <td>1805.01</td>\n",
       "    </tr>\n",
       "    <tr>\n",
       "      <th>Gigabyte</th>\n",
       "      <td>799.00</td>\n",
       "      <td>1698.488958</td>\n",
       "      <td>3799.00</td>\n",
       "    </tr>\n",
       "    <tr>\n",
       "      <th>HP</th>\n",
       "      <td>210.14</td>\n",
       "      <td>952.628478</td>\n",
       "      <td>5368.77</td>\n",
       "    </tr>\n",
       "    <tr>\n",
       "      <th>Innjoo</th>\n",
       "      <td>251.40</td>\n",
       "      <td>347.888333</td>\n",
       "      <td>431.38</td>\n",
       "    </tr>\n",
       "    <tr>\n",
       "      <th>Jetwing</th>\n",
       "      <td>469.27</td>\n",
       "      <td>469.270000</td>\n",
       "      <td>469.27</td>\n",
       "    </tr>\n",
       "    <tr>\n",
       "      <th>LG</th>\n",
       "      <td>609.04</td>\n",
       "      <td>1730.028438</td>\n",
       "      <td>2399.00</td>\n",
       "    </tr>\n",
       "    <tr>\n",
       "      <th>Lenovo</th>\n",
       "      <td>239.00</td>\n",
       "      <td>1087.723880</td>\n",
       "      <td>5018.14</td>\n",
       "    </tr>\n",
       "    <tr>\n",
       "      <th>MSI</th>\n",
       "      <td>444.19</td>\n",
       "      <td>1913.451006</td>\n",
       "      <td>7150.47</td>\n",
       "    </tr>\n",
       "    <tr>\n",
       "      <th>Medion</th>\n",
       "      <td>246.89</td>\n",
       "      <td>905.331875</td>\n",
       "      <td>3799.00</td>\n",
       "    </tr>\n",
       "    <tr>\n",
       "      <th>Microsoft</th>\n",
       "      <td>599.01</td>\n",
       "      <td>1595.543247</td>\n",
       "      <td>3747.91</td>\n",
       "    </tr>\n",
       "    <tr>\n",
       "      <th>Millenium</th>\n",
       "      <td>1640.98</td>\n",
       "      <td>1976.845000</td>\n",
       "      <td>2312.71</td>\n",
       "    </tr>\n",
       "    <tr>\n",
       "      <th>PcCom</th>\n",
       "      <td>1049.00</td>\n",
       "      <td>1606.762917</td>\n",
       "      <td>1949.90</td>\n",
       "    </tr>\n",
       "    <tr>\n",
       "      <th>Primux</th>\n",
       "      <td>208.99</td>\n",
       "      <td>339.618750</td>\n",
       "      <td>599.41</td>\n",
       "    </tr>\n",
       "    <tr>\n",
       "      <th>Prixton</th>\n",
       "      <td>246.95</td>\n",
       "      <td>292.280000</td>\n",
       "      <td>329.95</td>\n",
       "    </tr>\n",
       "    <tr>\n",
       "      <th>Razer</th>\n",
       "      <td>1232.74</td>\n",
       "      <td>3265.701622</td>\n",
       "      <td>4999.01</td>\n",
       "    </tr>\n",
       "    <tr>\n",
       "      <th>Realme</th>\n",
       "      <td>999.00</td>\n",
       "      <td>999.000000</td>\n",
       "      <td>999.00</td>\n",
       "    </tr>\n",
       "    <tr>\n",
       "      <th>Samsung</th>\n",
       "      <td>365.90</td>\n",
       "      <td>1595.511364</td>\n",
       "      <td>3699.01</td>\n",
       "    </tr>\n",
       "    <tr>\n",
       "      <th>Thomson</th>\n",
       "      <td>201.05</td>\n",
       "      <td>316.860000</td>\n",
       "      <td>436.56</td>\n",
       "    </tr>\n",
       "    <tr>\n",
       "      <th>Toshiba</th>\n",
       "      <td>799.00</td>\n",
       "      <td>799.000000</td>\n",
       "      <td>799.00</td>\n",
       "    </tr>\n",
       "    <tr>\n",
       "      <th>Vant</th>\n",
       "      <td>632.00</td>\n",
       "      <td>1047.455455</td>\n",
       "      <td>1217.01</td>\n",
       "    </tr>\n",
       "  </tbody>\n",
       "</table>\n",
       "</div>"
      ],
      "text/plain": [
       "                      min         mean      max\n",
       "Brand                                          \n",
       "Acer               264.14  1001.285766  3691.00\n",
       "Alurin             239.00   484.701379   869.00\n",
       "Apple              299.00  1578.227672  3849.00\n",
       "Asus               239.25  1269.380699  5758.14\n",
       "Deep Gaming       1334.00  1505.377500  1639.01\n",
       "Dell               379.00  1153.839881  3936.00\n",
       "Denver             329.95   329.950000   329.95\n",
       "Dynabook Toshiba   397.29   999.197895  1805.01\n",
       "Gigabyte           799.00  1698.488958  3799.00\n",
       "HP                 210.14   952.628478  5368.77\n",
       "Innjoo             251.40   347.888333   431.38\n",
       "Jetwing            469.27   469.270000   469.27\n",
       "LG                 609.04  1730.028438  2399.00\n",
       "Lenovo             239.00  1087.723880  5018.14\n",
       "MSI                444.19  1913.451006  7150.47\n",
       "Medion             246.89   905.331875  3799.00\n",
       "Microsoft          599.01  1595.543247  3747.91\n",
       "Millenium         1640.98  1976.845000  2312.71\n",
       "PcCom             1049.00  1606.762917  1949.90\n",
       "Primux             208.99   339.618750   599.41\n",
       "Prixton            246.95   292.280000   329.95\n",
       "Razer             1232.74  3265.701622  4999.01\n",
       "Realme             999.00   999.000000   999.00\n",
       "Samsung            365.90  1595.511364  3699.01\n",
       "Thomson            201.05   316.860000   436.56\n",
       "Toshiba            799.00   799.000000   799.00\n",
       "Vant               632.00  1047.455455  1217.01"
      ]
     },
     "execution_count": 28,
     "metadata": {},
     "output_type": "execute_result"
    }
   ],
   "source": [
    "df.groupby('Brand')['Final Price'].agg(['min', 'mean', 'max'])\n",
    "#data.groupby('Brand')['Final Price'].agg(['min', 'mean', 'max'])"
   ]
  },
  {
   "cell_type": "code",
   "execution_count": 32,
   "id": "0ebe0dfe-c63b-4ba8-8935-dae580ea1ccb",
   "metadata": {},
   "outputs": [
    {
     "data": {
      "text/plain": [
       "3936.0"
      ]
     },
     "execution_count": 32,
     "metadata": {},
     "output_type": "execute_result"
    }
   ],
   "source": [
    "df[df.Brand == 'Dell']['Final Price'].max()\n",
    "#data[data.Brand == 'Dell']['Final Price'].max()"
   ]
  },
  {
   "cell_type": "code",
   "execution_count": 41,
   "id": "d2324399-6129-4463-ae71-241c5ff67b5c",
   "metadata": {},
   "outputs": [
    {
     "data": {
      "text/plain": [
       "15.6"
      ]
     },
     "execution_count": 41,
     "metadata": {},
     "output_type": "execute_result"
    }
   ],
   "source": [
    "median = df['Screen'].median()\n",
    "median"
   ]
  },
  {
   "cell_type": "code",
   "execution_count": 42,
   "id": "bda07768-838d-4c05-bfa5-829b6f0520d5",
   "metadata": {},
   "outputs": [
    {
     "data": {
      "text/plain": [
       "15.6"
      ]
     },
     "execution_count": 42,
     "metadata": {},
     "output_type": "execute_result"
    }
   ],
   "source": [
    "mode = df['Screen'].mode()[0]\n",
    "mode"
   ]
  },
  {
   "cell_type": "code",
   "execution_count": 44,
   "id": "0e639399-77bc-41c5-80e5-80e8954970f1",
   "metadata": {},
   "outputs": [
    {
     "data": {
      "text/plain": [
       "15.6"
      ]
     },
     "execution_count": 44,
     "metadata": {},
     "output_type": "execute_result"
    }
   ],
   "source": [
    "df['Screen'].fillna(mode).median()"
   ]
  },
  {
   "cell_type": "code",
   "execution_count": 48,
   "id": "11448db9-1799-4245-ad6e-78b35a589233",
   "metadata": {},
   "outputs": [
    {
     "data": {
      "text/html": [
       "<div>\n",
       "<style scoped>\n",
       "    .dataframe tbody tr th:only-of-type {\n",
       "        vertical-align: middle;\n",
       "    }\n",
       "\n",
       "    .dataframe tbody tr th {\n",
       "        vertical-align: top;\n",
       "    }\n",
       "\n",
       "    .dataframe thead th {\n",
       "        text-align: right;\n",
       "    }\n",
       "</style>\n",
       "<table border=\"1\" class=\"dataframe\">\n",
       "  <thead>\n",
       "    <tr style=\"text-align: right;\">\n",
       "      <th></th>\n",
       "      <th>Laptop</th>\n",
       "      <th>Status</th>\n",
       "      <th>Brand</th>\n",
       "      <th>Model</th>\n",
       "      <th>CPU</th>\n",
       "      <th>RAM</th>\n",
       "      <th>Storage</th>\n",
       "      <th>Storage type</th>\n",
       "      <th>GPU</th>\n",
       "      <th>Screen</th>\n",
       "      <th>Touch</th>\n",
       "      <th>Final Price</th>\n",
       "    </tr>\n",
       "  </thead>\n",
       "  <tbody>\n",
       "    <tr>\n",
       "      <th>1478</th>\n",
       "      <td>InnJoo Voom Excellence Intel Celeron N4020/8GB...</td>\n",
       "      <td>New</td>\n",
       "      <td>Innjoo</td>\n",
       "      <td>Voom</td>\n",
       "      <td>Intel Celeron</td>\n",
       "      <td>8</td>\n",
       "      <td>256</td>\n",
       "      <td>SSD</td>\n",
       "      <td>NaN</td>\n",
       "      <td>15.6</td>\n",
       "      <td>No</td>\n",
       "      <td>311.37</td>\n",
       "    </tr>\n",
       "    <tr>\n",
       "      <th>1479</th>\n",
       "      <td>InnJoo Voom Excellence Pro Intel Celeron N4020...</td>\n",
       "      <td>New</td>\n",
       "      <td>Innjoo</td>\n",
       "      <td>Voom</td>\n",
       "      <td>Intel Celeron</td>\n",
       "      <td>8</td>\n",
       "      <td>512</td>\n",
       "      <td>SSD</td>\n",
       "      <td>NaN</td>\n",
       "      <td>15.6</td>\n",
       "      <td>No</td>\n",
       "      <td>392.55</td>\n",
       "    </tr>\n",
       "    <tr>\n",
       "      <th>1480</th>\n",
       "      <td>Innjoo Voom Intel Celeron N3350/4GB/64GB eMMC/...</td>\n",
       "      <td>New</td>\n",
       "      <td>Innjoo</td>\n",
       "      <td>Voom</td>\n",
       "      <td>Intel Celeron</td>\n",
       "      <td>4</td>\n",
       "      <td>64</td>\n",
       "      <td>eMMC</td>\n",
       "      <td>NaN</td>\n",
       "      <td>14.1</td>\n",
       "      <td>No</td>\n",
       "      <td>251.40</td>\n",
       "    </tr>\n",
       "    <tr>\n",
       "      <th>1481</th>\n",
       "      <td>Innjoo Voom Laptop Max Intel Celeron N3350/6GB...</td>\n",
       "      <td>New</td>\n",
       "      <td>Innjoo</td>\n",
       "      <td>Voom</td>\n",
       "      <td>Intel Celeron</td>\n",
       "      <td>6</td>\n",
       "      <td>64</td>\n",
       "      <td>eMMC</td>\n",
       "      <td>NaN</td>\n",
       "      <td>14.1</td>\n",
       "      <td>No</td>\n",
       "      <td>383.61</td>\n",
       "    </tr>\n",
       "    <tr>\n",
       "      <th>1482</th>\n",
       "      <td>Innjoo Voom Laptop Pro Intel Celeron N3350/6GB...</td>\n",
       "      <td>New</td>\n",
       "      <td>Innjoo</td>\n",
       "      <td>Voom</td>\n",
       "      <td>Intel Celeron</td>\n",
       "      <td>6</td>\n",
       "      <td>128</td>\n",
       "      <td>SSD</td>\n",
       "      <td>NaN</td>\n",
       "      <td>14.1</td>\n",
       "      <td>No</td>\n",
       "      <td>317.02</td>\n",
       "    </tr>\n",
       "    <tr>\n",
       "      <th>1483</th>\n",
       "      <td>Innjoo Voom Pro Intel Celeron N3350/6GB/128GB ...</td>\n",
       "      <td>New</td>\n",
       "      <td>Innjoo</td>\n",
       "      <td>Voom</td>\n",
       "      <td>Intel Celeron</td>\n",
       "      <td>6</td>\n",
       "      <td>128</td>\n",
       "      <td>eMMC</td>\n",
       "      <td>NaN</td>\n",
       "      <td>14.1</td>\n",
       "      <td>No</td>\n",
       "      <td>431.38</td>\n",
       "    </tr>\n",
       "  </tbody>\n",
       "</table>\n",
       "</div>"
      ],
      "text/plain": [
       "                                                 Laptop Status   Brand Model  \\\n",
       "1478  InnJoo Voom Excellence Intel Celeron N4020/8GB...    New  Innjoo  Voom   \n",
       "1479  InnJoo Voom Excellence Pro Intel Celeron N4020...    New  Innjoo  Voom   \n",
       "1480  Innjoo Voom Intel Celeron N3350/4GB/64GB eMMC/...    New  Innjoo  Voom   \n",
       "1481  Innjoo Voom Laptop Max Intel Celeron N3350/6GB...    New  Innjoo  Voom   \n",
       "1482  Innjoo Voom Laptop Pro Intel Celeron N3350/6GB...    New  Innjoo  Voom   \n",
       "1483  Innjoo Voom Pro Intel Celeron N3350/6GB/128GB ...    New  Innjoo  Voom   \n",
       "\n",
       "                CPU  RAM  Storage Storage type  GPU  Screen Touch  Final Price  \n",
       "1478  Intel Celeron    8      256          SSD  NaN    15.6    No       311.37  \n",
       "1479  Intel Celeron    8      512          SSD  NaN    15.6    No       392.55  \n",
       "1480  Intel Celeron    4       64         eMMC  NaN    14.1    No       251.40  \n",
       "1481  Intel Celeron    6       64         eMMC  NaN    14.1    No       383.61  \n",
       "1482  Intel Celeron    6      128          SSD  NaN    14.1    No       317.02  \n",
       "1483  Intel Celeron    6      128         eMMC  NaN    14.1    No       431.38  "
      ]
     },
     "execution_count": 48,
     "metadata": {},
     "output_type": "execute_result"
    }
   ],
   "source": [
    "Innjoo = df[df.Brand == 'Innjoo']\n",
    "Innjoo"
   ]
  },
  {
   "cell_type": "code",
   "execution_count": 50,
   "id": "607c3e16-8df9-46e3-90fb-5b5c5cce2e57",
   "metadata": {},
   "outputs": [
    {
     "data": {
      "text/html": [
       "<div>\n",
       "<style scoped>\n",
       "    .dataframe tbody tr th:only-of-type {\n",
       "        vertical-align: middle;\n",
       "    }\n",
       "\n",
       "    .dataframe tbody tr th {\n",
       "        vertical-align: top;\n",
       "    }\n",
       "\n",
       "    .dataframe thead th {\n",
       "        text-align: right;\n",
       "    }\n",
       "</style>\n",
       "<table border=\"1\" class=\"dataframe\">\n",
       "  <thead>\n",
       "    <tr style=\"text-align: right;\">\n",
       "      <th></th>\n",
       "      <th>RAM</th>\n",
       "      <th>Storage</th>\n",
       "      <th>Screen</th>\n",
       "    </tr>\n",
       "  </thead>\n",
       "  <tbody>\n",
       "    <tr>\n",
       "      <th>1478</th>\n",
       "      <td>8</td>\n",
       "      <td>256</td>\n",
       "      <td>15.6</td>\n",
       "    </tr>\n",
       "    <tr>\n",
       "      <th>1479</th>\n",
       "      <td>8</td>\n",
       "      <td>512</td>\n",
       "      <td>15.6</td>\n",
       "    </tr>\n",
       "    <tr>\n",
       "      <th>1480</th>\n",
       "      <td>4</td>\n",
       "      <td>64</td>\n",
       "      <td>14.1</td>\n",
       "    </tr>\n",
       "    <tr>\n",
       "      <th>1481</th>\n",
       "      <td>6</td>\n",
       "      <td>64</td>\n",
       "      <td>14.1</td>\n",
       "    </tr>\n",
       "    <tr>\n",
       "      <th>1482</th>\n",
       "      <td>6</td>\n",
       "      <td>128</td>\n",
       "      <td>14.1</td>\n",
       "    </tr>\n",
       "    <tr>\n",
       "      <th>1483</th>\n",
       "      <td>6</td>\n",
       "      <td>128</td>\n",
       "      <td>14.1</td>\n",
       "    </tr>\n",
       "  </tbody>\n",
       "</table>\n",
       "</div>"
      ],
      "text/plain": [
       "      RAM  Storage  Screen\n",
       "1478    8      256    15.6\n",
       "1479    8      512    15.6\n",
       "1480    4       64    14.1\n",
       "1481    6       64    14.1\n",
       "1482    6      128    14.1\n",
       "1483    6      128    14.1"
      ]
     },
     "execution_count": 50,
     "metadata": {},
     "output_type": "execute_result"
    }
   ],
   "source": [
    "Innjoo = Innjoo[['RAM', 'Storage', 'Screen']]\n",
    "Innjoo"
   ]
  },
  {
   "cell_type": "code",
   "execution_count": 59,
   "id": "659a4263-f32a-4538-9a2f-7957dea0bf23",
   "metadata": {},
   "outputs": [
    {
     "data": {
      "text/plain": [
       "array([[  8. , 256. ,  15.6],\n",
       "       [  8. , 512. ,  15.6],\n",
       "       [  4. ,  64. ,  14.1],\n",
       "       [  6. ,  64. ,  14.1],\n",
       "       [  6. , 128. ,  14.1],\n",
       "       [  6. , 128. ,  14.1]])"
      ]
     },
     "execution_count": 59,
     "metadata": {},
     "output_type": "execute_result"
    }
   ],
   "source": [
    "X = Innjoo.values\n",
    "X"
   ]
  },
  {
   "cell_type": "code",
   "execution_count": 76,
   "id": "9996d548-a777-4e93-bb07-a3f4afc1e827",
   "metadata": {},
   "outputs": [
    {
     "data": {
      "text/plain": [
       "array([[ 2.78025381e-01, -1.51791334e-03, -1.00809855e-01],\n",
       "       [-1.51791334e-03,  1.58286725e-05,  4.48052175e-04],\n",
       "       [-1.00809855e-01,  4.48052175e-04,  3.87214888e-02]])"
      ]
     },
     "execution_count": 76,
     "metadata": {},
     "output_type": "execute_result"
    }
   ],
   "source": [
    "XTX = X.T.dot(X)\n",
    "XTX_inv = np.linalg.inv(XTX)\n",
    "XTX_inv"
   ]
  },
  {
   "cell_type": "code",
   "execution_count": 74,
   "id": "a55fa0e0-210b-4428-8838-8da826a05bfb",
   "metadata": {},
   "outputs": [
    {
     "data": {
      "text/plain": [
       "[1100, 1300, 800, 900, 1000, 1100]"
      ]
     },
     "execution_count": 74,
     "metadata": {},
     "output_type": "execute_result"
    }
   ],
   "source": [
    "y= [1100, 1300, 800, 900, 1000, 1100]\n",
    "y"
   ]
  },
  {
   "cell_type": "code",
   "execution_count": 78,
   "id": "eb29f1f0-feaa-456b-84b5-4fe62c2ec48f",
   "metadata": {},
   "outputs": [
    {
     "data": {
      "text/plain": [
       "array([45.58076606,  0.42783519, 45.29127938])"
      ]
     },
     "execution_count": 78,
     "metadata": {},
     "output_type": "execute_result"
    }
   ],
   "source": [
    "w = (XTX_inv @ X.T) @ y\n",
    "w"
   ]
  },
  {
   "cell_type": "code",
   "execution_count": 79,
   "id": "3c4c3a4c-8c58-43f2-a52f-0f9798e390f5",
   "metadata": {},
   "outputs": [
    {
     "data": {
      "text/plain": [
       "91.29988062995815"
      ]
     },
     "execution_count": 79,
     "metadata": {},
     "output_type": "execute_result"
    }
   ],
   "source": [
    "sum(w)"
   ]
  },
  {
   "cell_type": "code",
   "execution_count": null,
   "id": "fe9ded0b-f66c-4e5d-aedf-da45208367e1",
   "metadata": {},
   "outputs": [],
   "source": []
  }
 ],
 "metadata": {
  "kernelspec": {
   "display_name": "Python 3 (ipykernel)",
   "language": "python",
   "name": "python3"
  },
  "language_info": {
   "codemirror_mode": {
    "name": "ipython",
    "version": 3
   },
   "file_extension": ".py",
   "mimetype": "text/x-python",
   "name": "python",
   "nbconvert_exporter": "python",
   "pygments_lexer": "ipython3",
   "version": "3.11.9"
  }
 },
 "nbformat": 4,
 "nbformat_minor": 5
}
