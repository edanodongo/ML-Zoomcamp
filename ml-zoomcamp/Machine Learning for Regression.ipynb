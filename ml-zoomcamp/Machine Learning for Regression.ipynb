{
 "cells": [
  {
   "cell_type": "markdown",
   "id": "ee9cd692-765f-4e92-877a-908adc8dd257",
   "metadata": {},
   "source": [
    "## **Machine Learning for Regression** ##"
   ]
  },
  {
   "cell_type": "code",
   "execution_count": null,
   "id": "cfcb0c8f-32dd-4539-b573-95f0cda53f45",
   "metadata": {},
   "outputs": [],
   "source": []
  }
 ],
 "metadata": {
  "kernelspec": {
   "display_name": "Python 3 (ipykernel)",
   "language": "python",
   "name": "python3"
  },
  "language_info": {
   "codemirror_mode": {
    "name": "ipython",
    "version": 3
   },
   "file_extension": ".py",
   "mimetype": "text/x-python",
   "name": "python",
   "nbconvert_exporter": "python",
   "pygments_lexer": "ipython3",
   "version": "3.11.9"
  }
 },
 "nbformat": 4,
 "nbformat_minor": 5
}
